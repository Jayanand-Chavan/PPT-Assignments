{
 "cells": [
  {
   "cell_type": "markdown",
   "id": "f15f6b17-ef5c-428a-af65-573b71526e88",
   "metadata": {},
   "source": [
    "A permutation perm of n + 1 integers of all the integers in the range [0, n] can be represented as a string s of length n where:\n",
    "\n",
    "- s[i] == 'I' if perm[i] < perm[i + 1], and\n",
    "- s[i] == 'D' if perm[i] > perm[i + 1].\n",
    "\n",
    "Given a string s, reconstruct the permutation perm and return it. If there are multiple valid permutations perm, return **any of them**.\n",
    "\n",
    "**Example 1:**\n",
    "\n",
    "**Input:** s = \"IDID\"\n",
    "\n",
    "**Output:**\n",
    "\n",
    "[0,4,1,3,2]"
   ]
  },
  {
   "cell_type": "code",
   "execution_count": 27,
   "id": "5fa367c0-b360-4659-a4a6-1c4dc885e9e4",
   "metadata": {},
   "outputs": [
    {
     "name": "stdout",
     "output_type": "stream",
     "text": [
      "[0, 4, 1, 3, 2]\n"
     ]
    }
   ],
   "source": [
    "def reconstruct_permutation(s):\n",
    "    perm = []\n",
    "    n = len(s)\n",
    "    low, high = 0, n\n",
    "    \n",
    "    for c in s:\n",
    "        if c == 'I':\n",
    "            perm.append(low)\n",
    "            low += 1\n",
    "        elif c == 'D':\n",
    "            perm.append(high)\n",
    "            high -= 1\n",
    "    \n",
    "    perm.append(low)  \n",
    "    \n",
    "    return perm\n",
    "\n",
    "\n",
    "s = \"IDID\"\n",
    "permutation = reconstruct_permutation(s)\n",
    "print(permutation)"
   ]
  },
  {
   "cell_type": "markdown",
   "id": "331fc806-732b-4045-88c1-9dfc7081f024",
   "metadata": {},
   "source": [
    "\n",
    "**Question 2**\n",
    "\n",
    "You are given an m x n integer matrix matrix with the following two properties:\n",
    "\n",
    "- Each row is sorted in non-decreasing order.\n",
    "- The first integer of each row is greater than the last integer of the previous row.\n",
    "\n",
    "Given an integer target, return true *if* target *is in* matrix *or* false *otherwise*.\n",
    "\n",
    "You must write a solution in O(log(m * n)) time complexity.\n",
    "\n",
    "**Example 1:**\n",
    "\n",
    "\n",
    "**Input:** matrix = [[1,3,5,7],[10,11,16,20],[23,30,34,60]], target = 3\n",
    "\n",
    "**Output:** true\n",
    "\n"
   ]
  },
  {
   "cell_type": "code",
   "execution_count": 28,
   "id": "93b98646-a2ca-4c94-85e4-2f4420008ca4",
   "metadata": {},
   "outputs": [
    {
     "name": "stdout",
     "output_type": "stream",
     "text": [
      "True\n"
     ]
    }
   ],
   "source": [
    "def search_matrix(matrix, target):\n",
    "    m = len(matrix)\n",
    "    n = len(matrix[0])\n",
    "    left = 0\n",
    "    right = m * n - 1\n",
    "    \n",
    "    while left <= right:\n",
    "        mid = (left + right) // 2\n",
    "        row = mid // n\n",
    "        col = mid % n\n",
    "        \n",
    "        if matrix[row][col] == target:\n",
    "            return True\n",
    "        elif matrix[row][col] < target:\n",
    "            left = mid + 1\n",
    "        else:\n",
    "            right = mid - 1\n",
    "    \n",
    "    return False\n",
    "\n",
    "\n",
    "matrix = [[1, 3, 5, 7], [10, 11, 16, 20], [23, 30, 34, 60]]\n",
    "target = 3\n",
    "result = search_matrix(matrix, target)\n",
    "print(result)"
   ]
  },
  {
   "cell_type": "markdown",
   "id": "0dbf3343-0b7f-4fa6-a43b-bf9e0f80ff81",
   "metadata": {},
   "source": [
    "\n",
    " **Question 3**\n",
    "\n",
    "Given an array of integers arr, return *true if and only if it is a valid mountain array*.\n",
    "\n",
    "Recall that arr is a mountain array if and only if:\n",
    "\n",
    "- arr.length >= 3\n",
    "- There exists some i with 0 < i < arr.length - 1 such that:\n",
    "    - arr[0] < arr[1] < ... < arr[i - 1] < arr[i]\n",
    "    - arr[i] > arr[i + 1] > ... > arr[arr.length - 1]\n",
    "\n",
    "\n",
    "**Example 1:**\n",
    "\n",
    "**Input:** arr = [2,1]\n",
    "\n",
    "**Output:**\n",
    "\n",
    "false\n"
   ]
  },
  {
   "cell_type": "code",
   "execution_count": 30,
   "id": "2cca35e4-1d24-4ddc-b81f-0f4d7014bfa2",
   "metadata": {},
   "outputs": [
    {
     "name": "stdout",
     "output_type": "stream",
     "text": [
      "False\n"
     ]
    }
   ],
   "source": [
    "def valid_mountain_array(arr):\n",
    "    n = len(arr)\n",
    "    \n",
    "    if n < 3:\n",
    "        return False\n",
    "    \n",
    "    i = 0\n",
    "    while i + 1 < n and arr[i] < arr[i + 1]:\n",
    "        i += 1\n",
    "    \n",
    "    if i == 0 or i == n - 1:\n",
    "        return False\n",
    "    \n",
    "    while i + 1 < n and arr[i] > arr[i + 1]:\n",
    "        i += 1\n",
    "    \n",
    "    return i == n - 1\n",
    "\n",
    "\n",
    "\n",
    "arr = [2, 1]\n",
    "result = valid_mountain_array(arr)\n",
    "print(result)"
   ]
  },
  {
   "cell_type": "markdown",
   "id": "0f72d604-dc6e-40a1-8745-86ffa78158e9",
   "metadata": {},
   "source": [
    "\n",
    " **Question 4**\n",
    "\n",
    "Given a binary array nums, return *the maximum length of a contiguous subarray with an equal number of* 0 *and* 1.\n",
    "\n",
    "**Example 1:**\n",
    "\n",
    "**Input:** nums = [0,1]\n",
    "\n",
    "**Output:** 2\n",
    "\n",
    "**Explanation:**\n",
    "\n",
    "[0, 1] is the longest contiguous subarray with an equal number of 0 and 1.\n",
    "\n"
   ]
  },
  {
   "cell_type": "code",
   "execution_count": 4,
   "id": "d6eb0222-26e9-42ba-b361-e7677db919ac",
   "metadata": {},
   "outputs": [
    {
     "name": "stdout",
     "output_type": "stream",
     "text": [
      "2\n"
     ]
    }
   ],
   "source": [
    "def find_max_length(nums):\n",
    "    max_length = 0\n",
    "    count = 0\n",
    "    count_map = {0: -1}\n",
    "    \n",
    "    for i, num in enumerate(nums):\n",
    "        count += 1 if num == 1 else -1\n",
    "        \n",
    "        if count in count_map:\n",
    "            length = i - count_map[count]\n",
    "            max_length = max(max_length, length)\n",
    "        else:\n",
    "            count_map[count] = i\n",
    "    \n",
    "    return max_length\n",
    "\n",
    "nums = [0, 1]\n",
    "result = find_max_length(nums)\n",
    "print(result)"
   ]
  },
  {
   "cell_type": "code",
   "execution_count": null,
   "id": "cad1feb4-d501-4112-b306-78f18a3ab5c4",
   "metadata": {},
   "outputs": [],
   "source": [
    " **Question 5**\n",
    "\n",
    "The **product sum** of two equal-length arrays a and b is equal to the sum of a[i] * b[i] for all 0 <= i < a.length (**0-indexed**).\n",
    "\n",
    "- For example, if a = [1,2,3,4] and b = [5,2,3,1], the **product sum** would be 1*5 + 2*2 + 3*3 + 4*1 = 22.\n",
    "\n",
    "Given two arrays nums1 and nums2 of length n, return *the **minimum product sum** if you are allowed to **rearrange** the **order** of the elements in* nums1.\n",
    "\n",
    "**Example 1:**\n",
    "\n",
    "**Input:** nums1 = [5,3,4,2], nums2 = [4,2,2,5]\n",
    "\n",
    "**Output:** 40\n",
    "\n",
    "**Explanation:**\n",
    "\n",
    "We can rearrange nums1 to become [3,5,4,2]. The product sum of [3,5,4,2] and [4,2,2,5] is 3*4 + 5*2 + 4*2 + 2*5 = 40.\n",
    "\n"
   ]
  },
  {
   "cell_type": "code",
   "execution_count": 12,
   "id": "57d7707f-5b44-4823-b3cf-45d44fd02352",
   "metadata": {},
   "outputs": [],
   "source": [
    "\n",
    " def minProductSum( nums1, nums2):\n",
    "        nums1.sort()\n",
    "        nums2.sort()\n",
    "        n = len(nums1)\n",
    "        min_product_sum = 0\n",
    "        for i in range(n):\n",
    "               min_product_sum += nums1[i] * nums2[n - i - 1]\n",
    "        return min_product_sum\n"
   ]
  },
  {
   "cell_type": "code",
   "execution_count": 13,
   "id": "46d55302-e2e1-4327-bf1e-1013ab278775",
   "metadata": {},
   "outputs": [
    {
     "name": "stdout",
     "output_type": "stream",
     "text": [
      "40\n"
     ]
    }
   ],
   "source": [
    "nums1 = [5, 3, 4, 2]\n",
    "nums2 = [4, 2, 2, 5]\n",
    "result = minProductSum(nums1, nums2)\n",
    "print(result)"
   ]
  },
  {
   "cell_type": "markdown",
   "id": "d83951c2-7ace-4799-9206-752b242678e3",
   "metadata": {},
   "source": [
    "**Question 6**\n",
    "\n",
    "An integer array original is transformed into a **doubled** array changed by appending **twice the value** of every element in original, and then randomly **shuffling** the resulting array.\n",
    "\n",
    "Given an array changed, return original *if* changed *is a **doubled** array. If* changed *is not a **doubled** array, return an empty array. The elements in* original *may be returned in **any** order*.\n",
    "\n",
    "**Example 1:**\n",
    "\n",
    "**Input:** changed = [1,3,4,2,6,8]\n",
    "\n",
    "**Output:** [1,3,4]\n",
    "\n",
    "**Explanation:** One possible original array could be [1,3,4]:\n",
    "\n",
    "- Twice the value of 1 is 1 * 2 = 2.\n",
    "- Twice the value of 3 is 3 * 2 = 6.\n",
    "- Twice the value of 4 is 4 * 2 = 8.\n",
    "\n",
    "Other original arrays could be [4,3,1] or [3,1,4].\n",
    "\n"
   ]
  },
  {
   "cell_type": "code",
   "execution_count": 21,
   "id": "b0ec3fcb-700c-48bf-a810-ca732914efff",
   "metadata": {},
   "outputs": [
    {
     "name": "stdout",
     "output_type": "stream",
     "text": [
      "[1, 3, 4]\n"
     ]
    }
   ],
   "source": [
    "from collections import Counter\n",
    "def find_original_array(changed):\n",
    "    ctr = Counter(changed)\n",
    "    res = []\n",
    "\t\t\n",
    "    for num in sorted(ctr):\n",
    "        if num == 0: \n",
    "            if ctr[num] % 2 == 0:\n",
    "                res.extend([0]*(ctr[num] // 2))\n",
    "            else:\n",
    "                return []\n",
    "        elif ctr[num] != 0:\n",
    "            if num*2 not in ctr or ctr[num*2] < ctr[num]:\n",
    "                return []\n",
    "            ctr[num*2] -= ctr[num]\n",
    "            res.extend([num]*ctr[num])\n",
    "    return res\n",
    "        \n",
    "changed = [1, 3, 4, 2, 6, 8]\n",
    "original = find_original_array(changed)\n",
    "print(original)"
   ]
  },
  {
   "cell_type": "markdown",
   "id": "341555cc-79bc-4a92-aa68-3f8677eac54b",
   "metadata": {},
   "source": [
    "\n",
    "💡 **Question 7**\n",
    "\n",
    "Given a positive integer n, generate an n x n matrix filled with elements from 1 to n2 in spiral order.\n",
    "\n",
    "**Example 1:**\n",
    "\n",
    "\n",
    "**Input:** n = 3\n",
    "\n",
    "**Output:** [[1,2,3],[8,9,4],[7,6,5]]\n",
    "\n"
   ]
  },
  {
   "cell_type": "code",
   "execution_count": 20,
   "id": "aa57bb66-1d34-455f-9dbe-da6d1a6a754b",
   "metadata": {},
   "outputs": [
    {
     "name": "stdout",
     "output_type": "stream",
     "text": [
      "[[1, 2, 3], [8, 9, 4], [7, 6, 5]]\n"
     ]
    }
   ],
   "source": [
    "def generate_matrix(n):\n",
    "    matrix = [[0] * n for _ in range(n)]\n",
    "    row_start = 0\n",
    "    row_end = n - 1\n",
    "    col_start = 0\n",
    "    col_end = n - 1\n",
    "    num = 1\n",
    "\n",
    "    while num <= n * n:\n",
    "                                                                  \n",
    "        for j in range(col_start, col_end + 1):\n",
    "            matrix[row_start][j] = num\n",
    "            num += 1\n",
    "        row_start += 1\n",
    "\n",
    "                                                                   \n",
    "        for i in range(row_start, row_end + 1):\n",
    "            matrix[i][col_end] = num\n",
    "            num += 1\n",
    "        col_end -= 1\n",
    "\n",
    "                                                                   \n",
    "        for j in range(col_end, col_start - 1, -1):\n",
    "            matrix[row_end][j] = num\n",
    "            num += 1\n",
    "        row_end -= 1\n",
    "\n",
    "                                                                    \n",
    "        for i in range(row_end, row_start - 1, -1):\n",
    "            matrix[i][col_start] = num\n",
    "            num += 1\n",
    "        col_start += 1\n",
    "\n",
    "    return matrix\n",
    "\n",
    "\n",
    "n = 3\n",
    "result = generate_matrix(n)\n",
    "print(result)"
   ]
  },
  {
   "cell_type": "markdown",
   "id": "b836f850-8269-4078-aa6c-a8aa802d2725",
   "metadata": {},
   "source": [
    "Given two sparse matrices mat1 of size m x k and mat2 of size k x n, return the result of mat1 x mat2. You may assume that multiplication is always possible.\n",
    "\n",
    "**Example 1:**\n",
    "\n",
    "\n",
    "**Input:** mat1 = [[1,0,0],[-1,0,3]], mat2 = [[7,0,0],[0,0,0],[0,0,1]]\n",
    "\n",
    "**Output:**\n",
    "\n",
    "[[7,0,0],[-7,0,3]]"
   ]
  },
  {
   "cell_type": "code",
   "execution_count": 26,
   "id": "34206f41-08e3-4ffe-9849-ba2ec83ce5b9",
   "metadata": {},
   "outputs": [
    {
     "name": "stdout",
     "output_type": "stream",
     "text": [
      "[[7, 0, 0], [-7, 0, 3]]\n"
     ]
    }
   ],
   "source": [
    "from collections import defaultdict\n",
    "def multiply( mat1, mat2) :\n",
    "        r1, c1, c2 = len(mat1), len(mat1[0]), len(mat2[0])\n",
    "        res = [[0] * c2 for _ in range(r1)]\n",
    "        mp = defaultdict(list)\n",
    "        for i in range(r1):\n",
    "            for j in range(c1):\n",
    "                if mat1[i][j] != 0:\n",
    "                    mp[i].append(j)\n",
    "        for i in range(r1):\n",
    "            for j in range(c2):\n",
    "                for k in mp[i]:\n",
    "                    res[i][j] += mat1[i][k] * mat2[k][j]\n",
    "        return res\n",
    "\n",
    "\n",
    "mat1 = [[1, 0, 0], [-1, 0, 3]]\n",
    "mat2 = [[7, 0, 0], [0, 0, 0], [0, 0, 1]]\n",
    "result = multiply( mat1, mat2)\n",
    "print(result)"
   ]
  },
  {
   "cell_type": "code",
   "execution_count": null,
   "id": "405cbd99-c61f-49e2-99b9-839c98f85efc",
   "metadata": {},
   "outputs": [],
   "source": []
  }
 ],
 "metadata": {
  "kernelspec": {
   "display_name": "Python 3 (ipykernel)",
   "language": "python",
   "name": "python3"
  },
  "language_info": {
   "codemirror_mode": {
    "name": "ipython",
    "version": 3
   },
   "file_extension": ".py",
   "mimetype": "text/x-python",
   "name": "python",
   "nbconvert_exporter": "python",
   "pygments_lexer": "ipython3",
   "version": "3.10.8"
  }
 },
 "nbformat": 4,
 "nbformat_minor": 5
}
