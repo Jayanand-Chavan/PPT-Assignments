{
 "cells": [
  {
   "cell_type": "markdown",
   "id": "9e6b78bd-b3e3-47a3-bc5a-7127aca487ea",
   "metadata": {},
   "source": [
    "**Question 1**\n",
    "Given three integer arrays arr1, arr2 and arr3 **sorted** in **strictly increasing** order, return a sorted array of **only** the integers that appeared in **all** three arrays.\n",
    "\n",
    "**Example 1:**\n",
    "\n",
    "Input: arr1 = [1,2,3,4,5], arr2 = [1,2,5,7,9], arr3 = [1,3,4,5,8]\n",
    "\n",
    "Output: [1,5]\n",
    "\n",
    "**Explanation:** Only 1 and 5 appeared in the three arrays.\n",
    "\n"
   ]
  },
  {
   "cell_type": "code",
   "execution_count": 5,
   "id": "e47dbebc-12bc-421a-bf24-1667f9190e9d",
   "metadata": {},
   "outputs": [
    {
     "name": "stdout",
     "output_type": "stream",
     "text": [
      "1\n",
      "5\n",
      "None\n"
     ]
    }
   ],
   "source": [
    "def find_common_elements(arr1, arr2, arr3):\n",
    "    i, j, k = 0, 0, 0\n",
    "    result = []\n",
    "    \n",
    "    while i < len(arr1) and j < len(arr2) and k < len(arr3):\n",
    "        if arr1[i] == arr2[j] == arr3[k]:\n",
    "            result.append(arr1[i])\n",
    "            i += 1\n",
    "            j += 1\n",
    "            k += 1\n",
    "        elif arr1[i] < arr2[j]:\n",
    "            i += 1\n",
    "        elif arr2[j] < arr3[k]:\n",
    "            j += 1\n",
    "        else:\n",
    "            k += 1\n",
    "            \n",
    "    return result\n",
    "            \n",
    "            \n",
    "            \n",
    "            \n",
    "            \n",
    "arr1 = [1,2,3,4,5]\n",
    "arr2 = [1,2,5,7,9]\n",
    "arr3 = [1,3,4,5,8]\n",
    "res = findCommon(arr1, arr2, arr3)\n",
    "print(res)"
   ]
  },
  {
   "cell_type": "markdown",
   "id": "43faf4c4-0c55-4279-85a8-38d0b2941c15",
   "metadata": {},
   "source": [
    "Given two **0-indexed** integer arrays nums1 and nums2, return *a list* answer *of size* 2 *where:*\n",
    "\n",
    "- answer[0] *is a list of all **distinct** integers in* nums1 *which are **not** present in* nums2*.*\n",
    "- answer[1] *is a list of all **distinct** integers in* nums2 *which are **not** present in* nums1.\n",
    "\n",
    "**Note** that the integers in the lists may be returned in **any** order.\n",
    "\n",
    "**Example 1:**\n",
    "\n",
    "**Input:** nums1 = [1,2,3], nums2 = [2,4,6]\n",
    "\n",
    "**Output:** [[1,3],[4,6]]\n",
    "\n",
    "**Explanation:**\n",
    "\n",
    "For nums1, nums1[1] = 2 is present at index 0 of nums2, whereas nums1[0] = 1 and nums1[2] = 3 are not present in nums2. Therefore, answer[0] = [1,3].\n",
    "\n",
    "For nums2, nums2[0] = 2 is present at index 1 of nums1, whereas nums2[1] = 4 and nums2[2] = 6 are not present in nums2. Therefore, answer[1] = [4,6]."
   ]
  },
  {
   "cell_type": "code",
   "execution_count": 11,
   "id": "bd21d67b-18b2-41fe-8f4a-b37c15b349fe",
   "metadata": {},
   "outputs": [
    {
     "name": "stdout",
     "output_type": "stream",
     "text": [
      "[[1, 3], [4, 6]]\n"
     ]
    }
   ],
   "source": [
    "def find_array_difference(nums1, nums2):\n",
    "    set1 = set(nums1)\n",
    "    set2 = set(nums2)\n",
    "    \n",
    "    difference1 = set1 - set2\n",
    "    difference2 = set2 - set1\n",
    "    \n",
    "    answer = [list(difference1), list(difference2)]\n",
    "    \n",
    "    return answer\n",
    "\n",
    "nums1 = [1, 2, 3]\n",
    "nums2 = [2, 4, 6]\n",
    "\n",
    "result = find_array_difference(nums1, nums2)\n",
    "print(result)"
   ]
  },
  {
   "cell_type": "markdown",
   "id": "66c71c7d-7ce4-40e5-8dd5-c4023209bc38",
   "metadata": {},
   "source": [
    "Question 3\n",
    "Given a 2D integer array matrix, return *the **transpose** of* matrix.\n",
    "\n",
    "The **transpose** of a matrix is the matrix flipped over its main diagonal, switching the matrix's row and column indices.\n",
    "\n",
    "**Example 1:**\n",
    "\n",
    "Input: matrix = [[1,2,3],[4,5,6],[7,8,9]]\n",
    "\n",
    "Output: [[1,4,7],[2,5,8],[3,6,9]]\n"
   ]
  },
  {
   "cell_type": "code",
   "execution_count": 14,
   "id": "ffaff4c3-7244-4985-b785-e11798c6825d",
   "metadata": {},
   "outputs": [
    {
     "name": "stdout",
     "output_type": "stream",
     "text": [
      "[[1, 4, 7], [2, 5, 8], [3, 6, 9]]\n"
     ]
    }
   ],
   "source": [
    "def transpose(matrix):\n",
    "    rows = len(matrix)\n",
    "    cols = len(matrix[0])\n",
    "    \n",
    "    result = [[0] * rows for _ in range(cols)]\n",
    "    \n",
    "    for i in range(rows):\n",
    "        for j in range(cols):\n",
    "            result[j][i] = matrix[i][j]\n",
    "    \n",
    "    return result\n",
    "\n",
    "matrix = [[1, 2, 3], [4, 5, 6], [7, 8, 9]]\n",
    "\n",
    "result = transpose(matrix)\n",
    "print(result)"
   ]
  },
  {
   "cell_type": "markdown",
   "id": "f4a8f82d-0fa7-4d23-9e0c-ee73b01bfa62",
   "metadata": {},
   "source": [
    " Given an integer array nums of 2n integers, group these integers into n pairs (a1, b1), (a2, b2), ..., (an, bn) such that the sum of min(ai, bi) for all i is **maximized**. Return *the maximized sum*.\n",
    "\n",
    "**Example 1:**\n",
    "\n",
    "Input: nums = [1,4,3,2]\n",
    "\n",
    "Output: 4\n",
    "\n",
    "**Explanation:** All possible pairings (ignoring the ordering of elements) are:\n",
    "\n",
    "1. (1, 4), (2, 3) -> min(1, 4) + min(2, 3) = 1 + 2 = 3\n",
    "\n",
    "2. (1, 3), (2, 4) -> min(1, 3) + min(2, 4) = 1 + 2 = 3\n",
    "\n",
    "3. (1, 2), (3, 4) -> min(1, 2) + min(3, 4) = 1 + 3 = 4\n",
    "\n",
    "So the maximum possible sum is 4.\n"
   ]
  },
  {
   "cell_type": "code",
   "execution_count": 15,
   "id": "aa003652-df36-4ee9-a218-b4281aa495af",
   "metadata": {},
   "outputs": [
    {
     "name": "stdout",
     "output_type": "stream",
     "text": [
      "4\n"
     ]
    }
   ],
   "source": [
    "def array_pair_sum(nums):\n",
    "    nums.sort()\n",
    "    max_sum = 0\n",
    "    \n",
    "    for i in range(0, len(nums), 2):\n",
    "        max_sum += nums[i]\n",
    "    \n",
    "    return max_sum\n",
    "\n",
    "nums = [1, 4, 3, 2]\n",
    "\n",
    "result = array_pair_sum(nums)\n",
    "print(result)"
   ]
  },
  {
   "cell_type": "markdown",
   "id": "50ad75e4-2f87-4295-8320-d7b898f880fd",
   "metadata": {},
   "source": [
    "\n",
    "You have n coins and you want to build a staircase with these coins. The staircase consists of k rows where the ith row has exactly i coins. The last row of the staircase **may be** incomplete.\n",
    "\n",
    "Given the integer n, return *the number of **complete rows** of the staircase you will build*.\n"
   ]
  },
  {
   "cell_type": "code",
   "execution_count": 17,
   "id": "e2b0be4d-17dd-4eb4-bde3-fa13e8511b08",
   "metadata": {},
   "outputs": [
    {
     "name": "stdout",
     "output_type": "stream",
     "text": [
      "3\n"
     ]
    }
   ],
   "source": [
    "def arrange_coins(n):\n",
    "    complete_rows = 0\n",
    "    total_coins = 0\n",
    "    i = 1\n",
    "    \n",
    "    while total_coins <= n:\n",
    "        complete_rows += 1\n",
    "        total_coins += i\n",
    "        i += 1\n",
    "    \n",
    "    return complete_rows - 1\n",
    "\n",
    "\n",
    "\n",
    "n = 8\n",
    "\n",
    "result = arrange_coins(n)\n",
    "print(result)"
   ]
  },
  {
   "cell_type": "markdown",
   "id": "bbda39fe-4d66-40d6-b861-307065077305",
   "metadata": {},
   "source": [
    "\n",
    "**Question 6**\n",
    "Given an integer array nums sorted in **non-decreasing** order, return *an array of **the squares of each number** sorted in non-decreasing order*.\n",
    "\n",
    "**Example 1:**\n",
    "\n",
    "Input: nums = [-4,-1,0,3,10]\n",
    "\n",
    "Output: [0,1,9,16,100]\n",
    "\n",
    "**Explanation:** After squaring, the array becomes [16,1,0,9,100].\n",
    "After sorting, it becomes [0,1,9,16,100]\n",
    "\n"
   ]
  },
  {
   "cell_type": "code",
   "execution_count": 18,
   "id": "9baa6f09-639a-401d-a841-4652cddb288c",
   "metadata": {},
   "outputs": [
    {
     "name": "stdout",
     "output_type": "stream",
     "text": [
      "[0, 1, 9, 16, 100]\n"
     ]
    }
   ],
   "source": [
    "def sorted_squares(nums):\n",
    "    result = []\n",
    "    \n",
    "    for num in nums:\n",
    "        result.append(num * num)\n",
    "    \n",
    "    result.sort()\n",
    "    \n",
    "    return result\n",
    "\n",
    "\n",
    "nums = [-4, -1, 0, 3, 10]\n",
    "\n",
    "result = sorted_squares(nums)\n",
    "print(result)"
   ]
  },
  {
   "cell_type": "markdown",
   "id": "8d2c7429-8a6d-46fa-947a-42c4f35c2542",
   "metadata": {},
   "source": [
    "<aside>\n",
    "💡 **Question 7**\n",
    "You are given an m x n matrix M initialized with all 0's and an array of operations ops, where ops[i] = [ai, bi] means M[x][y] should be incremented by one for all 0 <= x < ai and 0 <= y < bi.\n",
    "\n",
    "Count and return *the number of maximum integers in the matrix after performing all the operations*\n",
    "\n",
    "**Example 1:**\n",
    "\n",
    "![q4.jpg](https://s3-us-west-2.amazonaws.com/secure.notion-static.com/4d0890d0-7bc7-4f59-be8e-352d9f3c1c52/q4.jpg)\n",
    "\n",
    "**Input:** m = 3, n = 3, ops = [[2,2],[3,3]]\n",
    "\n",
    "**Output:** 4\n",
    "\n",
    "**Explanation:** The maximum integer in M is 2, and there are four of it in M. So return 4.\n",
    "\n",
    "</aside>"
   ]
  },
  {
   "cell_type": "code",
   "execution_count": 19,
   "id": "45a38065-452a-451c-a266-29b4cb5443e4",
   "metadata": {},
   "outputs": [
    {
     "name": "stdout",
     "output_type": "stream",
     "text": [
      "4\n"
     ]
    }
   ],
   "source": [
    "def max_count(m, n, ops):\n",
    "    min_row = m\n",
    "    min_col = n\n",
    "    \n",
    "    for op in ops:\n",
    "        min_row = min(min_row, op[0])\n",
    "        min_col = min(min_col, op[1])\n",
    "    \n",
    "    return min_row * min_col\n",
    "\n",
    "\n",
    "\n",
    "m = 3\n",
    "n = 3\n",
    "ops = [[2, 2], [3, 3]]\n",
    "\n",
    "result = max_count(m, n, ops)\n",
    "print(result)"
   ]
  },
  {
   "cell_type": "code",
   "execution_count": null,
   "id": "c22a28f0-c21c-4d43-8296-3ac3338cfe50",
   "metadata": {},
   "outputs": [],
   "source": []
  },
  {
   "cell_type": "code",
   "execution_count": null,
   "id": "c9abb356-e706-4f53-bf9b-492722e2289c",
   "metadata": {},
   "outputs": [],
   "source": []
  }
 ],
 "metadata": {
  "kernelspec": {
   "display_name": "Python 3 (ipykernel)",
   "language": "python",
   "name": "python3"
  },
  "language_info": {
   "codemirror_mode": {
    "name": "ipython",
    "version": 3
   },
   "file_extension": ".py",
   "mimetype": "text/x-python",
   "name": "python",
   "nbconvert_exporter": "python",
   "pygments_lexer": "ipython3",
   "version": "3.10.8"
  }
 },
 "nbformat": 4,
 "nbformat_minor": 5
}
