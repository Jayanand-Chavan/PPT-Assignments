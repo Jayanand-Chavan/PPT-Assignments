{
 "cells": [
  {
   "cell_type": "markdown",
   "id": "ee59c68f-a62a-4fba-a485-0f4ec06fb49d",
   "metadata": {},
   "source": [
    "Given two strings s and t, *determine if they are isomorphic*.\n",
    "\n",
    "Two strings s and t are isomorphic if the characters in s can be replaced to get t.\n",
    "\n",
    "All occurrences of a character must be replaced with another character while preserving the order of characters. No two characters may map to the same character, but a character may map to itself.\n",
    "\n",
    "**Example 1:**\n",
    "\n",
    "**Input:** s = \"egg\", t = \"add\"\n",
    "\n",
    "**Output:** true"
   ]
  },
  {
   "cell_type": "code",
   "execution_count": 2,
   "id": "b29a1586-08be-49fa-be4a-fd19ac21005b",
   "metadata": {},
   "outputs": [
    {
     "name": "stdout",
     "output_type": "stream",
     "text": [
      "True\n"
     ]
    }
   ],
   "source": [
    "def isomorphic_strings(s, t):\n",
    "    if len(s) != len(t):\n",
    "        return False\n",
    "\n",
    "    s_to_t = {}\n",
    "    t_to_s = {}\n",
    "\n",
    "    for i in range(len(s)):\n",
    "        ch_s = s[i]\n",
    "        ch_t = t[i]\n",
    "\n",
    "        if ch_s in s_to_t and s_to_t[ch_s] != ch_t:\n",
    "            return False\n",
    "\n",
    "        if ch_t in t_to_s and t_to_s[ch_t] != ch_s:\n",
    "            return False\n",
    "\n",
    "        if ch_s not in s_to_t and ch_t not in t_to_s:\n",
    "            s_to_t[ch_s] = ch_t\n",
    "            t_to_s[ch_t] = ch_s\n",
    "\n",
    "    return True\n",
    "\n",
    "\n",
    "s = \"egg\"\n",
    "t = \"add\"\n",
    "print(isomorphic_strings(s, t))  "
   ]
  },
  {
   "cell_type": "markdown",
   "id": "5385141b-699a-42de-a712-acb2aa20f367",
   "metadata": {},
   "source": [
    "Given a string num which represents an integer, return true *if* num *is a **strobogrammatic number***.\n",
    "\n",
    "A **strobogrammatic number** is a number that looks the same when rotated 180 degrees (looked at upside down).\n",
    "\n",
    "**Example 1:**\n",
    "\n",
    "**Input:** num = \"69\"\n",
    "\n",
    "**Output:**\n",
    "\n",
    "true"
   ]
  },
  {
   "cell_type": "code",
   "execution_count": 4,
   "id": "336f3feb-0497-4350-8148-be6f72fb69bc",
   "metadata": {},
   "outputs": [
    {
     "name": "stdout",
     "output_type": "stream",
     "text": [
      "True\n"
     ]
    }
   ],
   "source": [
    "def is_strobogrammatic(num):\n",
    "    digit_map = {'0': '0', '1': '1', '6': '9', '8': '8', '9': '6'}\n",
    "    left, right = 0, len(num) - 1\n",
    "\n",
    "    while left <= right:\n",
    "        ch_left = num[left]\n",
    "        ch_right = num[right]\n",
    "\n",
    "        if ch_left not in digit_map or digit_map[ch_left] != ch_right:\n",
    "            return False\n",
    "\n",
    "        left += 1\n",
    "        right -= 1\n",
    "\n",
    "    return True\n",
    "\n",
    "\n",
    "num = \"69\"\n",
    "print(is_strobogrammatic(num))  "
   ]
  },
  {
   "cell_type": "markdown",
   "id": "b2db76c1-2b05-4657-a365-b2f2e3284757",
   "metadata": {},
   "source": [
    "Given two non-negative integers, num1 and num2 represented as string, return *the sum of* num1 *and* num2 *as a string*.\n",
    "\n",
    "You must solve the problem without using any built-in library for handling large integers (such as BigInteger). You must also not convert the inputs to integers directly.\n",
    "\n",
    "**Example 1:**\n",
    "\n",
    "**Input:** num1 = \"11\", num2 = \"123\"\n",
    "\n",
    "**Output:**\n",
    "\n",
    "\"134\""
   ]
  },
  {
   "cell_type": "code",
   "execution_count": 5,
   "id": "cb37efa9-145d-4d23-9467-833dd7f2a701",
   "metadata": {},
   "outputs": [
    {
     "name": "stdout",
     "output_type": "stream",
     "text": [
      "134\n"
     ]
    }
   ],
   "source": [
    "def addStrings(num1, num2):\n",
    "    result = \"\"\n",
    "    i = len(num1) - 1\n",
    "    j = len(num2) - 1\n",
    "    carry = 0\n",
    "\n",
    "    while i >= 0 or j >= 0 or carry:\n",
    "        digit1 = int(num1[i]) if i >= 0 else 0\n",
    "        digit2 = int(num2[j]) if j >= 0 else 0\n",
    "        current_sum = digit1 + digit2 + carry\n",
    "        result = str(current_sum % 10) + result\n",
    "        carry = current_sum // 10\n",
    "        i -= 1\n",
    "        j -= 1\n",
    "\n",
    "    if not result:\n",
    "        return \"0\"\n",
    "\n",
    "    return result\n",
    "\n",
    "\n",
    "num1 = \"11\"\n",
    "num2 = \"123\"\n",
    "print(addStrings(num1, num2))  "
   ]
  },
  {
   "cell_type": "markdown",
   "id": "05002c26-7b52-4ee9-86a0-faad3018c38a",
   "metadata": {},
   "source": [
    "Given a string s, reverse the order of characters in each word within a sentence while still preserving whitespace and initial word order.\n",
    "\n",
    "**Example 1:**\n",
    "\n",
    "**Input:** s = \"Let's take LeetCode contest\"\n",
    "\n",
    "**Output:** \"s'teL ekat edoCteeL tsetnoc\""
   ]
  },
  {
   "cell_type": "code",
   "execution_count": 9,
   "id": "fc8bab71-3598-4d58-88f4-0f5b6a4630e0",
   "metadata": {},
   "outputs": [
    {
     "name": "stdout",
     "output_type": "stream",
     "text": [
      "s'teL ekat edoCteeL tsetnoc\n"
     ]
    }
   ],
   "source": [
    "def reverseWords(s):\n",
    "    words = s.split()  \n",
    "    reversed_words = [word[::-1] for word in words]  \n",
    "    return ' '.join(reversed_words)  \n",
    "\n",
    "\n",
    "s = \"Let's take LeetCode contest\"\n",
    "print(reverseWords(s)) "
   ]
  },
  {
   "cell_type": "markdown",
   "id": "dfbd3e21-8657-4328-aa62-8cbbd68447ed",
   "metadata": {},
   "source": [
    "Given a string s and an integer k, reverse the first k characters for every 2k characters counting from the start of the string.\n",
    "\n",
    "If there are fewer than k characters left, reverse all of them. If there are less than 2k but greater than or equal to k characters, then reverse the first k characters and leave the other as original.\n",
    "\n",
    "**Example 1:**\n",
    "\n",
    "**Input:** s = \"abcdefg\", k = 2\n",
    "\n",
    "**Output:**\n",
    "\n",
    "\"bacdfeg\""
   ]
  },
  {
   "cell_type": "code",
   "execution_count": 10,
   "id": "6f6e5dab-3aae-4370-b90d-9adc847c1816",
   "metadata": {},
   "outputs": [
    {
     "name": "stdout",
     "output_type": "stream",
     "text": [
      "bacdfeg\n"
     ]
    }
   ],
   "source": [
    "def reverseStr(s, k):\n",
    "    s_list = list(s)\n",
    "    n = len(s)\n",
    "\n",
    "    for i in range(0, n, 2 * k):\n",
    "        left = i\n",
    "        right = min(i + k - 1, n - 1)\n",
    "\n",
    "        while left < right:\n",
    "            s_list[left], s_list[right] = s_list[right], s_list[left]\n",
    "            left += 1\n",
    "            right -= 1\n",
    "\n",
    "    return ''.join(s_list)\n",
    "\n",
    "\n",
    "s = \"abcdefg\"\n",
    "k = 2\n",
    "print(reverseStr(s, k))  "
   ]
  },
  {
   "cell_type": "markdown",
   "id": "c09e1d48-3024-46b1-909e-837a9f2dc128",
   "metadata": {},
   "source": [
    "Given two strings s and goal, return true *if and only if* s *can become* goal *after some number of **shifts** on* s.\n",
    "\n",
    "A **shift** on s consists of moving the leftmost character of s to the rightmost position.\n",
    "\n",
    "- For example, if s = \"abcde\", then it will be \"bcdea\" after one shift.\n",
    "\n",
    "**Example 1:**\n",
    "\n",
    "**Input:** s = \"abcde\", goal = \"cdeab\"\n",
    "\n",
    "**Output:**\n",
    "\n",
    "true"
   ]
  },
  {
   "cell_type": "code",
   "execution_count": 12,
   "id": "d95187d9-f75e-4e0b-adc6-675be53a2704",
   "metadata": {},
   "outputs": [
    {
     "name": "stdout",
     "output_type": "stream",
     "text": [
      "True\n"
     ]
    }
   ],
   "source": [
    "def rotateString(s, goal):\n",
    "    if len(s) != len(goal):\n",
    "        return False\n",
    "\n",
    "    s_concat = s + s\n",
    "    if goal in s_concat:\n",
    "        return True\n",
    "    else:\n",
    "        return False\n",
    "\n",
    "\n",
    "s = \"abcde\"\n",
    "goal = \"cdeab\"\n",
    "print(rotateString(s, goal))  "
   ]
  },
  {
   "cell_type": "markdown",
   "id": "78d7642f-cf10-4f96-afe0-8fa0808aae19",
   "metadata": {},
   "source": [
    "Given two strings s and t, return true *if they are equal when both are typed into empty text editors*. '#' means a backspace character.\n",
    "\n",
    "Note that after backspacing an empty text, the text will continue empty.\n",
    "\n",
    "**Example 1:**\n",
    "\n",
    "**Input:** s = \"ab#c\", t = \"ad#c\"\n",
    "\n",
    "**Output:** true\n",
    "\n",
    "**Explanation:**\n",
    "\n",
    "Both s and t become \"ac\"."
   ]
  },
  {
   "cell_type": "code",
   "execution_count": 14,
   "id": "759816fb-fe08-4382-8b4d-36c2c5117fe6",
   "metadata": {},
   "outputs": [
    {
     "name": "stdout",
     "output_type": "stream",
     "text": [
      "True\n"
     ]
    }
   ],
   "source": [
    "def processString(s):\n",
    "    result = []\n",
    "    for ch in s:\n",
    "        if ch != '#':\n",
    "            result.append(ch)\n",
    "        elif result:\n",
    "            result.pop()\n",
    "    return ''.join(result)\n",
    "\n",
    "def backspaceCompare(s, t):\n",
    "    processed_s = processString(s)\n",
    "    processed_t = processString(t)\n",
    "    return processed_s == processed_t\n",
    "\n",
    "\n",
    "s = \"ab#c\"\n",
    "t = \"ad#c\"\n",
    "print(backspaceCompare(s, t))  "
   ]
  },
  {
   "cell_type": "markdown",
   "id": "63ec7840-9fae-4fcb-9b4c-567a33bc98af",
   "metadata": {},
   "source": [
    "You are given an array coordinates, coordinates[i] = [x, y], where [x, y] represents the coordinate of a point. Check if these points make a straight line in the XY plane.\n",
    "\n",
    "**Example 1:**\n",
    "\n",
    "\n",
    "**Input:** coordinates = [[1,2],[2,3],[3,4],[4,5],[5,6],[6,7]]\n",
    "\n",
    "**Output:** true"
   ]
  },
  {
   "cell_type": "code",
   "execution_count": 15,
   "id": "fd14067b-c261-4b5b-bf66-01464f36d4c8",
   "metadata": {},
   "outputs": [
    {
     "name": "stdout",
     "output_type": "stream",
     "text": [
      "True\n"
     ]
    }
   ],
   "source": [
    "def checkStraightLine(coordinates):\n",
    "    x0, y0 = coordinates[0]\n",
    "    x1, y1 = coordinates[1]\n",
    "\n",
    "    for i in range(2, len(coordinates)):\n",
    "        x, y = coordinates[i]\n",
    "        if (y1 - y0) * (x - x0) != (y - y0) * (x1 - x0):\n",
    "            return False\n",
    "\n",
    "    return True\n",
    "\n",
    "\n",
    "coordinates = [[1,2],[2,3],[3,4],[4,5],[5,6],[6,7]]\n",
    "print(checkStraightLine(coordinates))  "
   ]
  },
  {
   "cell_type": "code",
   "execution_count": null,
   "id": "f53ab7b5-7869-40a7-9cea-b6290706a3c3",
   "metadata": {},
   "outputs": [],
   "source": []
  }
 ],
 "metadata": {
  "kernelspec": {
   "display_name": "Python 3 (ipykernel)",
   "language": "python",
   "name": "python3"
  },
  "language_info": {
   "codemirror_mode": {
    "name": "ipython",
    "version": 3
   },
   "file_extension": ".py",
   "mimetype": "text/x-python",
   "name": "python",
   "nbconvert_exporter": "python",
   "pygments_lexer": "ipython3",
   "version": "3.10.8"
  }
 },
 "nbformat": 4,
 "nbformat_minor": 5
}
